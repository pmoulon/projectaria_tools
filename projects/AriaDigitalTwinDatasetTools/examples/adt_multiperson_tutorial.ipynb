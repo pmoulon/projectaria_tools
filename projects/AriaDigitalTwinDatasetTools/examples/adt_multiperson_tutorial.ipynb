{
 "cells": [
  {
   "attachments": {},
   "cell_type": "markdown",
   "id": "16ef947e",
   "metadata": {},
   "source": [
    "# ADT Tutorial - multi device time synchronization\n",
    "This tutorial shows how to obtain synchronized data from multiple devices, which share an aligned timecode time, but NOT device capture time. Note that this example requires at least two devices' data in the specified sequence. **Note that you need to download the `Apartment_release_multiskeleton_party_seq114` sequence for this tutorial**. \n",
    "\n",
    "### Notebook stuck?\n",
    "Note that because of Jupyter and Plotly issues, sometimes the code may stuck at visualization. We recommend **restart the kernels** and try again to see if the issue is resolved.\n",
    "\n",
    "### Running in Google Colab\n",
    "\n",
    "Unlike many other tutorials, this notebook cannot be run in Google Colab since you will need to download data to your local computer after agreeing to the terms and conditions of the dataset (continue reading for more information)."
   ]
  },
  {
   "cell_type": "code",
   "execution_count": null,
   "id": "aadaec3a",
   "metadata": {},
   "outputs": [],
   "source": [
    "import numpy as np\n",
    "import os\n",
    "import sys\n",
    "from pathlib import Path\n",
    "import matplotlib.pyplot as plt\n",
    "import matplotlib.patches as patches\n",
    "import plotly.graph_objects as go\n",
    "import plotly.offline as pyo\n",
    "import random\n",
    "\n",
    "from projectaria_tools.core.stream_id import StreamId\n",
    "\n",
    "from projectaria_tools.projects.adt import (\n",
    "   AriaDigitalTwinDataProvider,\n",
    "   AriaDigitalTwinDataPathsProvider,\n",
    "   bbox3d_to_line_coordinates,\n",
    "   utils as adt_utils,\n",
    ")"
   ]
  },
  {
   "attachments": {},
   "cell_type": "markdown",
   "id": "89655959",
   "metadata": {},
   "source": [
    "### Download a multi-skeleton sequence\n",
    "\n",
    "**sequence_path**: Enter the path to where the dataset has been downloaded to. The **Apartment_release_multiskeleton_party_seq114** should have been downloaded using the download script by running: \n",
    "```\n",
    "${PROJECT_DIR}/adt_benchmark_dataset_downloader -c ${PATH_TO_CDN_LIST_FILE} -o ${OUTPUT_PATH} -d 0 -l Apartment_release_multiskeleton_party_seq114\n",
    "```"
   ]
  },
  {
   "cell_type": "code",
   "execution_count": null,
   "id": "cdc1d284",
   "metadata": {},
   "outputs": [],
   "source": [
    "sequence_path = os.path.expanduser('~') + \"/Documents/projectaria_tools_adt_data/Apartment_release_multiskeleton_party_seq114\"\n",
    "print('sequence path: ', sequence_path)"
   ]
  },
  {
   "attachments": {},
   "cell_type": "markdown",
   "id": "0f032e05",
   "metadata": {},
   "source": [
    "### Get all devices for a sequences \n",
    "\n",
    "ADT has sequences of multi-person activities. Each person is identified by the Aria serial number they wear. Use the AriaDigitalTwinDataPathsProvider to get all person ids, a.k.a Aria serial numbers \n"
   ]
  },
  {
   "cell_type": "code",
   "execution_count": null,
   "id": "274a31c6",
   "metadata": {},
   "outputs": [],
   "source": [
    "paths_provider = AriaDigitalTwinDataPathsProvider(sequence_path)\n",
    "all_device_serials = paths_provider.get_device_serial_numbers()\n",
    "print(\"device serials: \", all_device_serials)"
   ]
  },
  {
   "attachments": {},
   "cell_type": "markdown",
   "id": "1d2e6dee",
   "metadata": {},
   "source": [
    "### Load data from devices\n",
    "\n",
    "For demonstration purpose, we only load two device's data from the sequence. "
   ]
  },
  {
   "cell_type": "code",
   "execution_count": null,
   "id": "aed4551b",
   "metadata": {},
   "outputs": [],
   "source": [
    "if len(all_device_serials) < 2:\n",
    "    print(\"ERROR: need at least 2 valid devices\")\n",
    "    sys.exit(1)\n",
    "\n",
    "data_providers=[]\n",
    "for device_id, device_serial in enumerate(all_device_serials[:2]):\n",
    "    print(f\"device number - {device_id} : {device_serial}\")\n",
    "    current_data_paths = paths_provider.get_datapaths_by_device_num(device_id)\n",
    "    print(f\"loading ground truth data for device {device_id}...\")\n",
    "    data_providers.append(AriaDigitalTwinDataProvider(current_data_paths))"
   ]
  },
  {
   "attachments": {},
   "cell_type": "markdown",
   "id": "8b9c00b1",
   "metadata": {},
   "source": [
    "### Pick a sample timestamp from device_0"
   ]
  },
  {
   "cell_type": "code",
   "execution_count": null,
   "id": "76b8c92e",
   "metadata": {},
   "outputs": [],
   "source": [
    "stream_id = StreamId(\"214-1\") # use rgb camera for testing\n",
    "sample_frame_id = 1312 # A hand picked frame from device_0. You may need to change this if you are using a different sequence\n",
    "\n",
    "# obtain device time and corresponding timecode time of this frame for device_0\n",
    "device_time_0 = data_providers[0].get_aria_device_capture_timestamps_ns(stream_id)[sample_frame_id]\n",
    "timecode_time_0 = data_providers[0].get_timecode_from_device_time_ns(device_time_0)"
   ]
  },
  {
   "attachments": {},
   "cell_type": "markdown",
   "id": "3c41e96d",
   "metadata": {},
   "source": [
    "### Draw a dynamic object from device_0\n",
    "Here we pick a dynamic object, and draw its 3D bounding box at `t = device_time_0` from device_0's time domain. "
   ]
  },
  {
   "cell_type": "code",
   "execution_count": null,
   "id": "7cd6244f",
   "metadata": {
    "scrolled": true
   },
   "outputs": [],
   "source": [
    "cup_instance_id = 4433484210031167  # A hand-picked object for this dataset (Black ceramic cup). You may need to change this if you are using a different dataset\n",
    "bboxes_3d_0 = data_providers[0].get_object_3d_boundingboxes_by_timestamp_ns(device_time_0).data()\n",
    "# check that the cup is within this frame\n",
    "assert cup_instance_id in bboxes_3d_0, f\"Device_0 3d bounding boxes from time {device_time_0} does not contain the black cup!\"\n",
    "cup_bbox_0 = bboxes_3d_0[cup_instance_id]\n",
    "\n",
    "# transform axes-aligned bounding box to scene coordinate and visualize\n",
    "aabb_coords = bbox3d_to_line_coordinates(cup_bbox_0.aabb)\n",
    "obb_device_0 = np.zeros(shape=(len(aabb_coords), 3))\n",
    "traces = []\n",
    "for i in range(0, len(aabb_coords)):\n",
    "    aabb_pt = aabb_coords[i]\n",
    "    aabb_pt_homo = np.append(aabb_pt, [1])\n",
    "    obb_pt = (cup_bbox_0.transform_scene_object.to_matrix()@aabb_pt_homo)[0:3]\n",
    "    obb_device_0[i] = obb_pt\n",
    "\n",
    "traces.append(go.Scatter3d(\n",
    "        x=obb_device_0[:, 0],\n",
    "        y=obb_device_0[:, 1],\n",
    "        z=obb_device_0[:, 2],\n",
    "        name=\"Cup from device_0\",\n",
    "        mode=\"lines\",\n",
    "        line=dict(color=[[0, 0, 255]]*len(obb_device_0), width=5),\n",
    "))\n",
    "\n",
    "pyo.init_notebook_mode()\n",
    "layout = go.Layout(scene=dict(dragmode='orbit', aspectmode='data', xaxis_visible=False, yaxis_visible=False,zaxis_visible=False))\n",
    "figure = go.Figure(data=traces, layout=layout)\n",
    "pyo.iplot(figure)\n"
   ]
  },
  {
   "attachments": {},
   "cell_type": "markdown",
   "id": "f0885d85",
   "metadata": {},
   "source": [
    "### Query device timestamp from device_1 using synchronized timecode time\n",
    "Timecode data from multiple devices should be aligned, therefore we can retrieve raw data according to aligned timecode timestamps. In this example, we can query device_1's device time by going: \n",
    "`device_time_from_device_0 -> timecode_time -> device_time_from_device_1`\n",
    "\n",
    "Note that there are **interpolation** involved in both `get_device_time_from_timecode_ns()` and `get_timecode_from_device_time_ns()` functions, therefore there could be a **precision issue that results in a small numerical difference** when you perform a round trip conversion of `device_t -> timecode_t -> device_t`. "
   ]
  },
  {
   "cell_type": "code",
   "execution_count": null,
   "id": "55a3d980",
   "metadata": {
    "scrolled": true
   },
   "outputs": [],
   "source": [
    "device_time_1 = data_providers[1].get_device_time_from_timecode_ns(timecode_time_0)\n",
    "\n",
    "# Print some explanations for time domain conversion\n",
    "timecode_time_1 = data_providers[1].get_timecode_from_device_time_ns(device_time_1)\n",
    "print(f\"We picked frame-{sample_frame_id} from device_0, which has device_time of {device_time_0}. \\n\")\n",
    "print(f\"Then we used `.get_timecode_from_device_time_ns()` function to obtain \"\n",
    "      f\"the timecode time from device_0, which is {timecode_time_0}\\n\")\n",
    "print(f\"Because the timecode is aligned between device_0 and device_1, therefore \"\n",
    "     f\"by calling `.get_device_time_from_timecode_ns({timecode_time_0})`, we can obtain device_time of {device_time_1} in device_1\"\n",
    "      f\", which should be the timestamp that are actually aligned with frame-{sample_frame_id} in device_0 \\n\")\n",
    "print(f\"For validation, if we further convert device_1's device time {device_time_1} to timecode, \"\n",
    "      f\"we get {timecode_time_1}, which should be very close to {timecode_time_0} \"\n",
    "      f\"despite some numerical difference: {timecode_time_1 - timecode_time_0}\\n\")\n",
    "print(\"Note that all units in timestamps are in nanoseconds (ns)\")\n"
   ]
  },
  {
   "attachments": {},
   "cell_type": "markdown",
   "id": "c4c71ba3",
   "metadata": {},
   "source": [
    "### Draw the same dynamic object from device_1\n",
    "Here we find the same dynamic object in device_1's data,  and draw its 3D bounding box at `t = device_time_1` from device_1's time domain. \n",
    "They should be aligned despite some difference in frame synchronization (difference up to 66ms)"
   ]
  },
  {
   "cell_type": "code",
   "execution_count": null,
   "id": "ec1f4ce2",
   "metadata": {
    "scrolled": true
   },
   "outputs": [],
   "source": [
    "bboxes_3d_1 = data_providers[1].get_object_3d_boundingboxes_by_timestamp_ns(device_time_1).data()\n",
    "# check that the cup is within this frame\n",
    "assert cup_instance_id in bboxes_3d_1, f\"Device_1 3d bounding boxes from time {device_time_1} does not contain the black cup!\"\n",
    "cup_bbox_1 = bboxes_3d_1[cup_instance_id]\n",
    "\n",
    "# transform axes-aligned bounding box to scene coordinate and visualize\n",
    "aabb_coords = bbox3d_to_line_coordinates(cup_bbox_1.aabb)\n",
    "obb_device_1 = np.zeros(shape=(len(aabb_coords), 3))\n",
    "for i in range(0, len(aabb_coords)):\n",
    "    aabb_pt = aabb_coords[i]\n",
    "    aabb_pt_homo = np.append(aabb_pt, [1])\n",
    "    obb_pt = (cup_bbox_1.transform_scene_object.to_matrix()@aabb_pt_homo)[0:3]\n",
    "    obb_device_1[i] = obb_pt\n",
    "\n",
    "# Attach more lines to traces for plotting\n",
    "traces.append(go.Scatter3d(\n",
    "        x=obb_device_1[:, 0],\n",
    "        y=obb_device_1[:, 1],\n",
    "        z=obb_device_1[:, 2],\n",
    "        name=\"Cup from device_1\",\n",
    "        mode=\"lines\",\n",
    "        line=dict(color=[[255, 0, 0]]*len(obb_device_1), width=5),\n",
    "))\n",
    "\n",
    "pyo.init_notebook_mode()\n",
    "layout = go.Layout(scene=dict(dragmode='orbit', aspectmode='data', xaxis_visible=False, yaxis_visible=False,zaxis_visible=False))\n",
    "figure = go.Figure(data=traces, layout=layout)\n",
    "pyo.iplot(figure)\n",
    "\n",
    "# Print the absolute difference between the object bounding boxes from device_0 and device_1\n",
    "difference_sum = 0\n",
    "for i in range(len(obb_device_0)):\n",
    "    difference_sum += np.linalg.norm(obb_device_1[i] - obb_device_0[i])\n",
    "\n",
    "print(f\"the average bbox corner difference is {difference_sum / len(obb_device_0) * 1000} mm\")\n"
   ]
  }
 ],
 "metadata": {
  "kernelspec": {
   "display_name": "Python 3 (ipykernel)",
   "language": "python",
   "name": "python3"
  },
  "language_info": {
   "codemirror_mode": {
    "name": "ipython",
    "version": 3
   },
   "file_extension": ".py",
   "mimetype": "text/x-python",
   "name": "python",
   "nbconvert_exporter": "python",
   "pygments_lexer": "ipython3",
   "version": "3.10.11"
  }
 },
 "nbformat": 4,
 "nbformat_minor": 5
}
